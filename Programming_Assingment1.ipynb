{
 "cells": [
  {
   "cell_type": "code",
   "execution_count": 1,
   "metadata": {},
   "outputs": [
    {
     "name": "stdout",
     "output_type": "stream",
     "text": [
      "Hello Python\n"
     ]
    }
   ],
   "source": [
    "# 1.\tWrite a Python program to print \"Hello Python\"?\n",
    "\n",
    "print('Hello Python')"
   ]
  },
  {
   "cell_type": "code",
   "execution_count": 12,
   "metadata": {},
   "outputs": [
    {
     "name": "stdout",
     "output_type": "stream",
     "text": [
      "a: 60\n",
      "b: 5\n",
      "add:  65\n",
      "div : 12.0\n"
     ]
    }
   ],
   "source": [
    "# 2.\tWrite a Python program to do arithmetical operations addition and division.?\n",
    "\n",
    "a= int(input('enter a: '))\n",
    "b= int(input('enter b: '))\n",
    "print(\"a:\", a)\n",
    "print(\"b:\", b)\n",
    "add = a+b\n",
    "div = a/b\n",
    "print(\"add: \", add)\n",
    "print (\"div :\", div)"
   ]
  },
  {
   "cell_type": "code",
   "execution_count": 13,
   "metadata": {},
   "outputs": [
    {
     "name": "stdout",
     "output_type": "stream",
     "text": [
      "a: 20\n",
      "b: 4\n",
      "area of triangle:  40.0\n"
     ]
    }
   ],
   "source": [
    "# 3.\tWrite a Python program to find the area of a triangle?\n",
    "\n",
    "a = int(input('enter the value of base: '))\n",
    "b = int(input('enter the value of height: '))\n",
    "print(\"a:\", a)\n",
    "print(\"b:\", b)\n",
    "area_of_triangle  = 0.5 * a * b\n",
    "print(\"area of triangle: \", area_of_triangle )\n"
   ]
  },
  {
   "cell_type": "code",
   "execution_count": 15,
   "metadata": {},
   "outputs": [
    {
     "name": "stdout",
     "output_type": "stream",
     "text": [
      "a: Purnima\n",
      "b: Singh\n",
      "the variable of a after swap: Singh\n",
      "the variable of b after swap: Purnima\n"
     ]
    }
   ],
   "source": [
    "# 4.\tWrite a Python program to swap two variables?\n",
    "\n",
    "a = input('enter the value of base: ')\n",
    "b = input('enter the value of height: ')\n",
    "print(\"a:\", a)\n",
    "print(\"b:\", b)\n",
    "\n",
    "temp = a\n",
    "a= b\n",
    "b = temp\n",
    "\n",
    "print('the variable of a after swap:', a)\n",
    "print('the variable of b after swap:', b)"
   ]
  },
  {
   "cell_type": "code",
   "execution_count": 16,
   "metadata": {},
   "outputs": [
    {
     "name": "stdout",
     "output_type": "stream",
     "text": [
      "a: Purnima\n",
      "b: Singh\n",
      "the variable of a after swap: Singh\n",
      "the variable of b after swap: Purnima\n"
     ]
    }
   ],
   "source": [
    "a = input('enter the value of base: ')\n",
    "b = input('enter the value of height: ')\n",
    "print(\"a:\", a)\n",
    "print(\"b:\", b)\n",
    "\n",
    "a, b = b, a\n",
    "\n",
    "print('the variable of a after swap:', a)\n",
    "print('the variable of b after swap:', b)"
   ]
  },
  {
   "cell_type": "code",
   "execution_count": 28,
   "metadata": {},
   "outputs": [
    {
     "name": "stdout",
     "output_type": "stream",
     "text": [
      "9582\n"
     ]
    }
   ],
   "source": [
    "# 5.\tWrite a Python program to generate a random number?\n",
    "\n",
    "# To generate random number in Python, randint() function is used. This function is defined in random module.\n",
    "\n",
    "import random\n",
    "\n",
    "print(random.randint(1000, 9999))\n"
   ]
  }
 ],
 "metadata": {
  "kernelspec": {
   "display_name": "base",
   "language": "python",
   "name": "python3"
  },
  "language_info": {
   "codemirror_mode": {
    "name": "ipython",
    "version": 3
   },
   "file_extension": ".py",
   "mimetype": "text/x-python",
   "name": "python",
   "nbconvert_exporter": "python",
   "pygments_lexer": "ipython3",
   "version": "3.11.5"
  }
 },
 "nbformat": 4,
 "nbformat_minor": 2
}
