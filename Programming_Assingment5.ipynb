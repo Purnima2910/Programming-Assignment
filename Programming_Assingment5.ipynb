{
 "cells": [
  {
   "cell_type": "code",
   "execution_count": 1,
   "metadata": {},
   "outputs": [],
   "source": [
    "# 1.\tWrite a Python Program to Find LCM?\n",
    "\n",
    "def lcm(a,b):\n",
    "    '''\n",
    "    Function which return the LCM of two number.\n",
    "    '''\n",
    "    high = a if a > b else b\n",
    "    \n",
    "    while True:\n",
    "        if (high%a==0) and (high%b==0):\n",
    "            break\n",
    "        else:\n",
    "            high += 1\n",
    "            \n",
    "    return high"
   ]
  },
  {
   "cell_type": "code",
   "execution_count": 2,
   "metadata": {},
   "outputs": [
    {
     "data": {
      "text/plain": [
       "6"
      ]
     },
     "execution_count": 2,
     "metadata": {},
     "output_type": "execute_result"
    }
   ],
   "source": [
    "lcm(2,6)"
   ]
  },
  {
   "cell_type": "code",
   "execution_count": 3,
   "metadata": {},
   "outputs": [],
   "source": [
    "#2. Write a Python Program to Find HCF?\n",
    "\n",
    "def hcf(a, b):\n",
    "    \n",
    "    low = a if a < b else b\n",
    "    \n",
    "    for i in range(1, low+1):\n",
    "        if (a%i==0) and (b%i==0):\n",
    "            hcf = i\n",
    "            \n",
    "    return hcf"
   ]
  },
  {
   "cell_type": "code",
   "execution_count": 4,
   "metadata": {},
   "outputs": [
    {
     "data": {
      "text/plain": [
       "2"
      ]
     },
     "execution_count": 4,
     "metadata": {},
     "output_type": "execute_result"
    }
   ],
   "source": [
    "hcf(2,6)"
   ]
  },
  {
   "cell_type": "code",
   "execution_count": 5,
   "metadata": {},
   "outputs": [],
   "source": [
    "# 3. Write a Python Program to Convert Decimal to Binary, Octal and Hexadecimal?\n",
    "def conversion(num):\n",
    "    print(\"Binary:      \", bin(num))\n",
    "    print(\"Octal:       \", oct(num))\n",
    "    print(\"Hexadecimal: \", hex(num))"
   ]
  },
  {
   "cell_type": "code",
   "execution_count": 6,
   "metadata": {},
   "outputs": [
    {
     "name": "stdout",
     "output_type": "stream",
     "text": [
      "Binary:       0b111\n",
      "Octal:        0o7\n",
      "Hexadecimal:  0x7\n"
     ]
    }
   ],
   "source": [
    "conversion(7)"
   ]
  },
  {
   "cell_type": "code",
   "execution_count": 7,
   "metadata": {},
   "outputs": [
    {
     "name": "stdout",
     "output_type": "stream",
     "text": [
      "ASCII value of A is 65\n"
     ]
    }
   ],
   "source": [
    "#4.\tWrite a Python Program To Find ASCII value of a character?\n",
    "\n",
    "try:\n",
    "    char = input(\"Enter a character: \")\n",
    "    ASCII = ord(char)\n",
    "    print(\"ASCII value of {} is {}\".format(char, ASCII))\n",
    "except Exception as e:\n",
    "    print(e)"
   ]
  },
  {
   "cell_type": "code",
   "execution_count": 10,
   "metadata": {},
   "outputs": [
    {
     "name": "stdout",
     "output_type": "stream",
     "text": [
      "\n",
      "For addition:       +\n",
      "For subtraction:    -\n",
      "For multiplicaton:  *\n",
      "For division:       /\n",
      "For Exit:            X\n",
      "\n",
      "Result:  25.0\n",
      "\n",
      "For addition:       +\n",
      "For subtraction:    -\n",
      "For multiplicaton:  *\n",
      "For division:       /\n",
      "For Exit:            X\n"
     ]
    }
   ],
   "source": [
    "# 5. Write a Python Program to Make a Simple Calculator with 4 basic mathematical operations?\n",
    "\n",
    "try:\n",
    "    \n",
    "    while True:\n",
    "        num1 = int(input(\"Enter first number: \"))\n",
    "        num2 = int(input(\"Enter second number: \"))\n",
    "        \n",
    "        print(\"\\nFor addition:       +\")\n",
    "        print(\"For subtraction:    -\")\n",
    "        print(\"For multiplicaton:  *\")\n",
    "        print(\"For division:       /\")\n",
    "        print(\"For Exit:            X\")\n",
    "        \n",
    "        ch = input(\"\\nEnter the choice for mathematical operations: \")\n",
    "        \n",
    "        \n",
    "        if ch == '+':\n",
    "            output = num1 + num2\n",
    "        elif ch == '-':\n",
    "            output = num1 - num2\n",
    "        elif ch == '*':\n",
    "            output = num1 * num2\n",
    "        elif ch == '/':\n",
    "            output = num1 / num2\n",
    "        \n",
    "        if ch == 'X' or ch == 'x':\n",
    "            break\n",
    "            \n",
    "        print(\"\\nResult: \", output)\n",
    "        \n",
    "        \n",
    "            \n",
    "except Exception as e:\n",
    "    print(e)"
   ]
  },
  {
   "cell_type": "code",
   "execution_count": null,
   "metadata": {},
   "outputs": [],
   "source": []
  }
 ],
 "metadata": {
  "kernelspec": {
   "display_name": "base",
   "language": "python",
   "name": "python3"
  },
  "language_info": {
   "codemirror_mode": {
    "name": "ipython",
    "version": 3
   },
   "file_extension": ".py",
   "mimetype": "text/x-python",
   "name": "python",
   "nbconvert_exporter": "python",
   "pygments_lexer": "ipython3",
   "version": "undefined.undefined.undefined"
  }
 },
 "nbformat": 4,
 "nbformat_minor": 2
}
