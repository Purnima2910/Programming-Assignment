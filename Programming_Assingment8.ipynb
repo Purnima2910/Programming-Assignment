{
 "cells": [
  {
   "cell_type": "code",
   "execution_count": 7,
   "metadata": {},
   "outputs": [
    {
     "data": {
      "text/plain": [
       "[[7, 11, 6], [7, -5, -7], [3, 15, 21]]"
      ]
     },
     "execution_count": 7,
     "metadata": {},
     "output_type": "execute_result"
    }
   ],
   "source": [
    "# 1. Write a Python Program to Add Two Matrices?\n",
    "mat1 = [[1,2,3],\n",
    "        [6, -4, -9],\n",
    "        [3,6,10]]\n",
    "\n",
    "mat2 = [[6,9,3],\n",
    "        [1,-1,2],\n",
    "        [0, 9, 11]]\n",
    "result = []\n",
    "\n",
    "for i in range(len(mat1)):\n",
    "    row = []\n",
    "    for j in range(len(mat1)):\n",
    "        row.append(mat1[i][j]+mat2[i][j])\n",
    "        \n",
    "    result.append(row)\n",
    "    \n",
    "result"
   ]
  },
  {
   "cell_type": "code",
   "execution_count": 9,
   "metadata": {},
   "outputs": [
    {
     "name": "stdout",
     "output_type": "stream",
     "text": [
      "[114, 131, 60, 27]\n",
      "[80, 62, 76, 14]\n",
      "[137, 111, 121, 23]\n"
     ]
    }
   ],
   "source": [
    "# 2.\tWrite a Python Program to Multiply Two Matrices?\n",
    "\n",
    "# Take 3x3 matrix\n",
    "A = [[12, 7, 3],\n",
    "    [4, 6, 6],\n",
    "    [7, 11, 9]]\n",
    "\n",
    "B = [[5, 8, 1, 2],\n",
    "    [6, 5, 3, 0],\n",
    "    [4, 0, 9, 1]]\n",
    "\n",
    "result = [[0, 0, 0, 0],\n",
    "        [0, 0, 0, 0],\n",
    "        [0, 0, 0, 0]]\n",
    "\n",
    "for i in range(len(A)):\n",
    "    for j in range(len(B[0])):\n",
    "        for k in range(len(B)):\n",
    "            result[i][j] += A[i][k] * B[k][j]\n",
    "\n",
    "for r in result:\n",
    "    print(r)"
   ]
  },
  {
   "cell_type": "code",
   "execution_count": 3,
   "metadata": {},
   "outputs": [
    {
     "name": "stdout",
     "output_type": "stream",
     "text": [
      "[12, 4, 3]\n",
      "[7, 5, 8]\n"
     ]
    }
   ],
   "source": [
    "# 3. Write a Python Program to Transpose a Matrix?\n",
    "# Program to transpose a matrix using a nested loop\n",
    "\n",
    "X = [[12,7],\n",
    "    [4 ,5],\n",
    "    [3 ,8]]\n",
    "\n",
    "result = [[0,0,0],\n",
    "         [0,0,0]]\n",
    "\n",
    "# iterating through rows\n",
    "for i in range(len(X)):\n",
    "   # iterating through columns\n",
    "   for j in range(len(X[0])):\n",
    "        result[j][i] = X[i][j]\n",
    "\n",
    "for r in result:\n",
    "    print(r)"
   ]
  },
  {
   "cell_type": "code",
   "execution_count": 5,
   "metadata": {},
   "outputs": [
    {
     "name": "stdout",
     "output_type": "stream",
     "text": [
      "the sentence is: this is an Assignment Question\n",
      "Sorted order of words:\n",
      "an assignment is question this "
     ]
    }
   ],
   "source": [
    "# 4. Write a Python Program to Sort Words in Alphabetic Order?\n",
    "try:\n",
    "    sentance = input(\"Enter the words: \")\n",
    "    print('the sentence is:', sentance)\n",
    "    words = [word.lower() for word in sentance.split()]\n",
    "    words.sort()\n",
    "    \n",
    "    print(\"Sorted order of words:\")\n",
    "    for word in words:\n",
    "        print(word, end = ' ')\n",
    "    \n",
    "except Exception as e:\n",
    "    print(e)"
   ]
  },
  {
   "cell_type": "code",
   "execution_count": 6,
   "metadata": {},
   "outputs": [
    {
     "name": "stdout",
     "output_type": "stream",
     "text": [
      "the string is: Hello everyone!, my name is P.U@R&N'I:M@A\n",
      "Hello everyone my name is PURNIMA\n"
     ]
    }
   ],
   "source": [
    "# 5. Write a Python Program to Remove Punctuation From a String?\n",
    "\n",
    "punctuations = '''!()-[]{};:'\"\\,<>./?@#$%^&*_~'''\n",
    "\n",
    "string = input(\"Enter the string: \")\n",
    "print('the string is:', string)\n",
    "outputString = \"\"\n",
    "\n",
    "for char in string:\n",
    "    if char not in punctuations:\n",
    "        outputString += char\n",
    "        \n",
    "print(outputString)"
   ]
  },
  {
   "cell_type": "code",
   "execution_count": null,
   "metadata": {},
   "outputs": [],
   "source": []
  }
 ],
 "metadata": {
  "kernelspec": {
   "display_name": "base",
   "language": "python",
   "name": "python3"
  },
  "language_info": {
   "codemirror_mode": {
    "name": "ipython",
    "version": 3
   },
   "file_extension": ".py",
   "mimetype": "text/x-python",
   "name": "python",
   "nbconvert_exporter": "python",
   "pygments_lexer": "ipython3",
   "version": "3.11.5"
  }
 },
 "nbformat": 4,
 "nbformat_minor": 2
}
