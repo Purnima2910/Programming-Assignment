{
 "cells": [
  {
   "cell_type": "code",
   "execution_count": 1,
   "metadata": {},
   "outputs": [],
   "source": [
    "# 1. Write a Python program to find words which are greater than given length k?\n",
    "def task1(list_of_words: list, k: int):\n",
    "    output = []\n",
    "    for i in list_of_words:\n",
    "        if len(i) > k:\n",
    "            output.append(i)\n",
    "            \n",
    "    return output"
   ]
  },
  {
   "cell_type": "code",
   "execution_count": 14,
   "metadata": {},
   "outputs": [
    {
     "data": {
      "text/plain": [
       "['cycle', 'helmet', 'break']"
      ]
     },
     "execution_count": 14,
     "metadata": {},
     "output_type": "execute_result"
    }
   ],
   "source": [
    "list_of_words = ['car', 'cycle', 'helmet', 'keys', 'break']\n",
    "k = 4\n",
    "\n",
    "task1(list_of_words, k)"
   ]
  },
  {
   "cell_type": "code",
   "execution_count": 3,
   "metadata": {},
   "outputs": [],
   "source": [
    "# 2. Write a Python program for removing i-th character from a string?\n",
    "def task2(string: str, i):\n",
    "    string = string.replace(string[i], '')\n",
    "    return string"
   ]
  },
  {
   "cell_type": "code",
   "execution_count": 15,
   "metadata": {},
   "outputs": [
    {
     "data": {
      "text/plain": [
       "'qwert'"
      ]
     },
     "execution_count": 15,
     "metadata": {},
     "output_type": "execute_result"
    }
   ],
   "source": [
    "task2('qwerty', 5)"
   ]
  },
  {
   "cell_type": "code",
   "execution_count": 5,
   "metadata": {},
   "outputs": [
    {
     "name": "stdout",
     "output_type": "stream",
     "text": [
      "['Write', 'a', 'Python', 'program', 'to', 'split', 'and', 'join', 'a', 'string?']\n",
      "Write a Python program to split and join a string?\n"
     ]
    }
   ],
   "source": [
    "# 3. Write a Python program to split and join a string?\n",
    "string = \"Write a Python program to split and join a string?\"\n",
    "\n",
    "split = string.split(' ')\n",
    "print(split)\n",
    "\n",
    "join = \" \".join(split)\n",
    "print(join)"
   ]
  },
  {
   "cell_type": "code",
   "execution_count": 6,
   "metadata": {},
   "outputs": [
    {
     "name": "stdout",
     "output_type": "stream",
     "text": [
      "Binary\n"
     ]
    }
   ],
   "source": [
    "# 4. Write a Python to check if a given string is binary string or not?\n",
    "string = input(\"Enter the string: \")\n",
    "binary = ['0', '1']\n",
    "\n",
    "is_binary = True\n",
    "for i in string:\n",
    "    if i not in binary:\n",
    "        is_binary = False\n",
    "    \n",
    "if is_binary:\n",
    "    print(\"Binary\")\n",
    "else:\n",
    "    print(\"Not Binary\")"
   ]
  },
  {
   "cell_type": "code",
   "execution_count": 7,
   "metadata": {},
   "outputs": [
    {
     "name": "stdout",
     "output_type": "stream",
     "text": [
      "the string is: Purnima\n",
      "Not Binary\n"
     ]
    }
   ],
   "source": [
    "string = input(\"Enter the string: \")\n",
    "binary = ['0', '1']\n",
    "print('the string is:', string)\n",
    "is_binary = True\n",
    "for i in string:\n",
    "    if i not in binary:\n",
    "        is_binary = False\n",
    "    \n",
    "if is_binary:\n",
    "    print(\"Binary\")\n",
    "else:\n",
    "    print(\"Not Binary\")"
   ]
  },
  {
   "cell_type": "code",
   "execution_count": 8,
   "metadata": {},
   "outputs": [],
   "source": [
    "# 5. Write a Python program to find uncommon words from two Strings?\n",
    "def task5(string1, string2):\n",
    "    \n",
    "    string1 = string1.split(' ')\n",
    "    string2 = string2.split(' ')\n",
    "    uncommon = []\n",
    "    \n",
    "    for i in set(string1):\n",
    "        if i not in string2:\n",
    "            uncommon.append(i)\n",
    "\n",
    "    for i in set(string2):\n",
    "        if i not in string1:\n",
    "            uncommon.append(i)\n",
    "            \n",
    "    return uncommon"
   ]
  },
  {
   "cell_type": "code",
   "execution_count": 9,
   "metadata": {},
   "outputs": [
    {
     "data": {
      "text/plain": [
       "['string',\n",
       " 'and',\n",
       " 'join',\n",
       " 'split',\n",
       " 'from',\n",
       " 'find',\n",
       " 'words',\n",
       " 'two',\n",
       " 'uncommon',\n",
       " 'Strings']"
      ]
     },
     "execution_count": 9,
     "metadata": {},
     "output_type": "execute_result"
    }
   ],
   "source": [
    "string1 = \"Write a Python program to split and join a string\"\n",
    "string2 = \"Write a Python program to find uncommon words from two Strings\"\n",
    "\n",
    "task5(string1, string2)"
   ]
  },
  {
   "cell_type": "code",
   "execution_count": 10,
   "metadata": {},
   "outputs": [],
   "source": [
    "# 6. Write a Python to find all duplicate characters in string?\n",
    "def task6(string: str):\n",
    "    duplicate = []\n",
    "    for i in string:\n",
    "        if string.count(i) > 1:\n",
    "            duplicate.append(i)\n",
    "            \n",
    "    return set(duplicate)"
   ]
  },
  {
   "cell_type": "code",
   "execution_count": 11,
   "metadata": {},
   "outputs": [
    {
     "data": {
      "text/plain": [
       "{' ', 'a', 'c', 'd', 'e', 'i', 'l', 'n', 'r', 's', 't'}"
      ]
     },
     "execution_count": 11,
     "metadata": {},
     "output_type": "execute_result"
    }
   ],
   "source": [
    "task6(\"find all duplicate characters in string\")"
   ]
  },
  {
   "cell_type": "code",
   "execution_count": 13,
   "metadata": {},
   "outputs": [
    {
     "name": "stdout",
     "output_type": "stream",
     "text": [
      "the string is: Pur@1993\n",
      "Given string contains special characters\n"
     ]
    }
   ],
   "source": [
    "# 7. Write a Python Program to check if a string contains any special character?\n",
    "import re\n",
    "\n",
    "\n",
    "string = input(\"Enter a string: \")\n",
    "print('the string is:', string)\n",
    "regex = re.compile('[@_!#$%^&*()<>?/\\|}{~:]')  \n",
    "\n",
    "if(regex.search(string) == None):\n",
    "    print(\"Given string does not contain special characters\")\n",
    "else:\n",
    "    print(\"Given string contains special characters\")"
   ]
  },
  {
   "cell_type": "code",
   "execution_count": null,
   "metadata": {},
   "outputs": [],
   "source": []
  }
 ],
 "metadata": {
  "kernelspec": {
   "display_name": "base",
   "language": "python",
   "name": "python3"
  },
  "language_info": {
   "codemirror_mode": {
    "name": "ipython",
    "version": 3
   },
   "file_extension": ".py",
   "mimetype": "text/x-python",
   "name": "python",
   "nbconvert_exporter": "python",
   "pygments_lexer": "ipython3",
   "version": "3.11.5"
  }
 },
 "nbformat": 4,
 "nbformat_minor": 2
}
